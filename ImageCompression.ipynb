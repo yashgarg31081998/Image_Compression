{
 "cells": [
  {
   "cell_type": "code",
   "execution_count": 1,
   "metadata": {
    "collapsed": true
   },
   "outputs": [],
   "source": [
    "import pandas as pd\n",
    "import numpy as np"
   ]
  },
  {
   "cell_type": "code",
   "execution_count": 2,
   "metadata": {
    "collapsed": true
   },
   "outputs": [],
   "source": [
    "import PIL "
   ]
  },
  {
   "cell_type": "code",
   "execution_count": 8,
   "metadata": {},
   "outputs": [
    {
     "name": "stdout",
     "output_type": "stream",
     "text": [
      "<PIL.JpegImagePlugin.JpegImageFile image mode=RGB size=300x300 at 0x1364AB81EB8>\n",
      "8 (300, 300) JPEG\n"
     ]
    }
   ],
   "source": [
    "from PIL import Image\n",
    "jpgfile = Image.open(\"C:/Users/Yash/Downloads/picture4.png\")\n",
    "\n",
    "print(jpgfile)\n",
    "print(jpgfile.bits, jpgfile.size, jpgfile.format)\n",
    "jpgfile.show()"
   ]
  },
  {
   "cell_type": "code",
   "execution_count": 9,
   "metadata": {
    "collapsed": true
   },
   "outputs": [],
   "source": [
    "from skimage import io"
   ]
  },
  {
   "cell_type": "code",
   "execution_count": 10,
   "metadata": {
    "collapsed": true
   },
   "outputs": [],
   "source": [
    "image = io.imread('C:/Users/Yash/Downloads/picture4.png')"
   ]
  },
  {
   "cell_type": "code",
   "execution_count": 11,
   "metadata": {
    "collapsed": true
   },
   "outputs": [],
   "source": [
    "image1=image\n",
    "image = image.reshape(image1.shape[0]*image1.shape[1], image1.shape[2])\n",
    "image=image/255"
   ]
  },
  {
   "cell_type": "code",
   "execution_count": 13,
   "metadata": {},
   "outputs": [
    {
     "name": "stdout",
     "output_type": "stream",
     "text": [
      "<class 'numpy.ndarray'>\n"
     ]
    },
    {
     "data": {
      "text/plain": [
       "(300, 300, 3)"
      ]
     },
     "execution_count": 13,
     "metadata": {},
     "output_type": "execute_result"
    }
   ],
   "source": [
    "print(type(image1))\n",
    "size=image1.shape\n",
    "size"
   ]
  },
  {
   "cell_type": "code",
   "execution_count": 15,
   "metadata": {},
   "outputs": [
    {
     "name": "stdout",
     "output_type": "stream",
     "text": [
      "(90000, 3)\n",
      "<class 'numpy.ndarray'>\n"
     ]
    }
   ],
   "source": [
    "print(image.shape)\n",
    "print(type(image1))"
   ]
  },
  {
   "cell_type": "code",
   "execution_count": 16,
   "metadata": {},
   "outputs": [
    {
     "data": {
      "text/plain": [
       "array([[ 1.,  1.,  1.],\n",
       "       [ 1.,  1.,  1.],\n",
       "       [ 1.,  1.,  1.],\n",
       "       ..., \n",
       "       [ 1.,  1.,  1.],\n",
       "       [ 1.,  1.,  1.],\n",
       "       [ 1.,  1.,  1.]])"
      ]
     },
     "execution_count": 16,
     "metadata": {},
     "output_type": "execute_result"
    }
   ],
   "source": [
    "image"
   ]
  },
  {
   "cell_type": "code",
   "execution_count": 17,
   "metadata": {},
   "outputs": [
    {
     "name": "stdout",
     "output_type": "stream",
     "text": [
      "90000 3\n"
     ]
    }
   ],
   "source": [
    "k = 16\n",
    "# Number of training data\n",
    "n = image.shape[0]\n",
    "# Number of features in the data\n",
    "c = image.shape[1]\n",
    "\n",
    "print(n,c)"
   ]
  },
  {
   "cell_type": "code",
   "execution_count": 18,
   "metadata": {},
   "outputs": [
    {
     "name": "stdout",
     "output_type": "stream",
     "text": [
      "(16, 3)\n"
     ]
    }
   ],
   "source": [
    "mean = np.mean(image, axis = 0)\n",
    "mean\n",
    "len(mean)\n",
    "\n",
    "mean=mean.reshape(1,len(mean))\n",
    "std = np.std(image, axis = 0)\n",
    "std=std.reshape(1,len(std))\n",
    "\n",
    "\n",
    "# centers = np.random.rand(k,c)*std+mean\n",
    "centers=image[0:k,:]\n",
    "\n",
    "print(centers.shape)"
   ]
  },
  {
   "cell_type": "code",
   "execution_count": 19,
   "metadata": {},
   "outputs": [
    {
     "name": "stdout",
     "output_type": "stream",
     "text": [
      "16\n"
     ]
    }
   ],
   "source": [
    "print(centers.shape[0])"
   ]
  },
  {
   "cell_type": "code",
   "execution_count": 20,
   "metadata": {
    "collapsed": true
   },
   "outputs": [],
   "source": [
    "import math"
   ]
  },
  {
   "cell_type": "code",
   "execution_count": 21,
   "metadata": {
    "collapsed": true
   },
   "outputs": [],
   "source": [
    "def label_find(x,X,centers):\n",
    "    label=np.zeros(X.shape[0])\n",
    "    for i in range(len(X)):\n",
    "        dist=10000\n",
    "        index=0\n",
    "        for j in range(k):\n",
    "            min=math.sqrt(np.sum((x[i]-centers[j])*(x[i]-centers[j])))\n",
    "            if min<dist:\n",
    "                index=j\n",
    "                dist=min\n",
    "        label[i]=index  \n",
    "#         print(label[i])\n",
    "   \n",
    "    return label  "
   ]
  },
  {
   "cell_type": "code",
   "execution_count": 24,
   "metadata": {
    "collapsed": true
   },
   "outputs": [],
   "source": [
    "def centroidUpdate(old_centroid,label,X):\n",
    "    new_centroid=old_centroid\n",
    "   \n",
    "    for i in range(len(old_centroid)):\n",
    "        center=label==i\n",
    "        center=center.astype(int)\n",
    "        increment=sum(center)\n",
    "        center=center.reshape(center.shape[0],1)\n",
    "#         print(center.shape)\n",
    "#         print(old_centroid.shape[1])\n",
    "        center_matrix=np.kron(np.ones((1,old_centroid.shape[1])), center)\n",
    "        \n",
    "                \n",
    "        if increment>1:        \n",
    "            value=sum(np.multiply(X,center_matrix))/increment\n",
    "            new_centroid[i,:]=value\n",
    "            \n",
    "        \n",
    "    return new_centroid"
   ]
  },
  {
   "cell_type": "code",
   "execution_count": 25,
   "metadata": {},
   "outputs": [
    {
     "name": "stdout",
     "output_type": "stream",
     "text": [
      "[ 0.  0.  0. ...,  0.  0.  0.]\n"
     ]
    }
   ],
   "source": [
    "labels1=label_find(image,image,centers)\n",
    "print(labels1)\n",
    "\n",
    "\n"
   ]
  },
  {
   "cell_type": "code",
   "execution_count": 26,
   "metadata": {},
   "outputs": [
    {
     "data": {
      "text/plain": [
       "dtype('int32')"
      ]
     },
     "execution_count": 26,
     "metadata": {},
     "output_type": "execute_result"
    }
   ],
   "source": [
    "labels1.dtype\n",
    "l=labels1.astype(int)\n",
    "l.dtype"
   ]
  },
  {
   "cell_type": "code",
   "execution_count": 27,
   "metadata": {},
   "outputs": [
    {
     "data": {
      "text/plain": [
       "dtype('float64')"
      ]
     },
     "execution_count": 27,
     "metadata": {},
     "output_type": "execute_result"
    }
   ],
   "source": [
    "c=centroidUpdate(centers,l,image)\n",
    "c.shape\n",
    "c.dtype"
   ]
  },
  {
   "cell_type": "code",
   "execution_count": 28,
   "metadata": {},
   "outputs": [
    {
     "data": {
      "text/plain": [
       "(16, 3)"
      ]
     },
     "execution_count": 28,
     "metadata": {},
     "output_type": "execute_result"
    }
   ],
   "source": [
    "labels=np.zeros(image.shape[0],dtype=int)\n",
    "labels=labels.reshape(labels.shape[0],1)\n",
    "labels.shape\n",
    "\n",
    "centers=np.zeros((k,image.shape[1]))\n",
    "centers.shape\n"
   ]
  },
  {
   "cell_type": "code",
   "execution_count": 29,
   "metadata": {
    "collapsed": true
   },
   "outputs": [],
   "source": [
    "\n",
    "for i in range(15):\n",
    "    labels=label_find(image,image,centers);\n",
    "    labels=labels.astype(int)\n",
    "    centers=centroidUpdate(centers,labels,image);"
   ]
  },
  {
   "cell_type": "code",
   "execution_count": 30,
   "metadata": {
    "collapsed": true
   },
   "outputs": [],
   "source": [
    "labels=labels.astype(int)\n"
   ]
  },
  {
   "cell_type": "code",
   "execution_count": 31,
   "metadata": {},
   "outputs": [
    {
     "data": {
      "text/plain": [
       "(90000, 1)"
      ]
     },
     "execution_count": 31,
     "metadata": {},
     "output_type": "execute_result"
    }
   ],
   "source": [
    "# print(type(labels[0]))\n",
    "labels=labels.reshape(labels.shape[0],1)\n",
    "labels.shape\n"
   ]
  },
  {
   "cell_type": "code",
   "execution_count": 32,
   "metadata": {},
   "outputs": [
    {
     "data": {
      "text/plain": [
       "(16, 3)"
      ]
     },
     "execution_count": 32,
     "metadata": {},
     "output_type": "execute_result"
    }
   ],
   "source": [
    "centers.shape"
   ]
  },
  {
   "cell_type": "code",
   "execution_count": 33,
   "metadata": {
    "collapsed": true
   },
   "outputs": [],
   "source": [
    "def output(x,centers,labels):\n",
    "    \n",
    "#     y=np.zeros(x.shape[0],x.shape[1])\n",
    "    y=np.zeros(x.shape)\n",
    "    \n",
    "    for i in range(len(x)):\n",
    "        j=int(labels[i])\n",
    "        y[i]=centers[j]\n",
    "\n",
    "   \n",
    "    return y"
   ]
  },
  {
   "cell_type": "code",
   "execution_count": 34,
   "metadata": {
    "collapsed": true
   },
   "outputs": [],
   "source": [
    "result=centers[labels,:]\n",
    "# result=output(image,centers,labels)"
   ]
  },
  {
   "cell_type": "code",
   "execution_count": 35,
   "metadata": {},
   "outputs": [
    {
     "data": {
      "text/plain": [
       "(90000, 1, 3)"
      ]
     },
     "execution_count": 35,
     "metadata": {},
     "output_type": "execute_result"
    }
   ],
   "source": [
    "result.shape"
   ]
  },
  {
   "cell_type": "code",
   "execution_count": 36,
   "metadata": {},
   "outputs": [
    {
     "data": {
      "text/plain": [
       "(300, 300, 3)"
      ]
     },
     "execution_count": 36,
     "metadata": {},
     "output_type": "execute_result"
    }
   ],
   "source": [
    "result=result.reshape(image1.shape[0],image1.shape[1],image1.shape[2])\n",
    "result.shape\n",
    "# result.astype(float)\n",
    "# result=result/1.0\n",
    "result.dtype\n",
    "result.shape"
   ]
  },
  {
   "cell_type": "code",
   "execution_count": 37,
   "metadata": {
    "collapsed": true
   },
   "outputs": [],
   "source": [
    "import PIL\n",
    "import matplotlib.pyplot as plt\n",
    "import matplotlib"
   ]
  },
  {
   "cell_type": "code",
   "execution_count": 39,
   "metadata": {
    "collapsed": true
   },
   "outputs": [],
   "source": [
    "filename = \"C:/Users/Yash/Downloads/compressed6\"\n",
    "\n",
    "img_name = filename +\".png\"\n",
    "matplotlib.image.imsave(img_name,result)\n",
    "# print(filename + \" was saved\")"
   ]
  }
 ],
 "metadata": {
  "kernelspec": {
   "display_name": "Python 3",
   "language": "python",
   "name": "python3"
  },
  "language_info": {
   "codemirror_mode": {
    "name": "ipython",
    "version": 3
   },
   "file_extension": ".py",
   "mimetype": "text/x-python",
   "name": "python",
   "nbconvert_exporter": "python",
   "pygments_lexer": "ipython3",
   "version": "3.6.3"
  }
 },
 "nbformat": 4,
 "nbformat_minor": 2
}
